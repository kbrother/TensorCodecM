{
 "cells": [
  {
   "cell_type": "code",
   "execution_count": 2,
   "id": "44799151-2f0c-43f1-a72f-117d935d8642",
   "metadata": {
    "tags": []
   },
   "outputs": [
    {
     "name": "stdout",
     "output_type": "stream",
     "text": [
      "(512, 512, 31)\n",
      "norm of the tensor: 29695683.50161897\n"
     ]
    }
   ],
   "source": [
    "from data import tensor\n",
    "import torch\n",
    "\n",
    "#(self, input_size, input_path, sample_ratio, device):      \n",
    "input_size = [[2, 2, 2, 2, 2, 2, 2, 2, 2],\n",
    "             [2, 2, 2, 2, 2, 2, 2, 2, 2],\n",
    "             [2, 2, 2, 2, 2, 1, 1, 1, 1]]\n",
    "_ten = tensor(input_size, \"../data/flowers/flowers\", 0.05, 0)"
   ]
  }
 ],
 "metadata": {
  "kernelspec": {
   "display_name": "Python 3 (ipykernel)",
   "language": "python",
   "name": "python3"
  },
  "language_info": {
   "codemirror_mode": {
    "name": "ipython",
    "version": 3
   },
   "file_extension": ".py",
   "mimetype": "text/x-python",
   "name": "python",
   "nbconvert_exporter": "python",
   "pygments_lexer": "ipython3",
   "version": "3.7.10"
  }
 },
 "nbformat": 4,
 "nbformat_minor": 5
}
